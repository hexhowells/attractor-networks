{
 "cells": [
  {
   "cell_type": "markdown",
   "id": "ab90843c-0710-4882-b522-62a88b6e51cb",
   "metadata": {},
   "source": [
    "# Point Attractors - Hopfield Networks"
   ]
  },
  {
   "cell_type": "code",
   "execution_count": 174,
   "id": "44a9b3fb-cbd5-4b2e-83d8-89b70205a0b8",
   "metadata": {},
   "outputs": [],
   "source": [
    "import numpy as np\n",
    "import matplotlib.pyplot as plt"
   ]
  },
  {
   "cell_type": "code",
   "execution_count": 175,
   "id": "2bfcfbc4-4f44-413d-95b5-c32087c15387",
   "metadata": {},
   "outputs": [],
   "source": [
    "def plot_patterns(patterns):\n",
    "    grid_size = int(np.ceil(np.sqrt(len(patterns))))\n",
    "    \n",
    "    fig, axes = plt.subplots(grid_size, grid_size, figsize=(grid_size * 2, grid_size * 2))\n",
    "    axes = axes.flatten()\n",
    "    \n",
    "    for i, pattern in enumerate(patterns):\n",
    "        axes[i].imshow(pattern.reshape(7, 7), vmin=-1, vmax=1)\n",
    "\n",
    "    for i in range(len(axes)): axes[i].axis('off')\n",
    "    \n",
    "    plt.tight_layout()\n",
    "    plt.show()"
   ]
  },
  {
   "cell_type": "code",
   "execution_count": 176,
   "id": "3f214287-5c3c-4710-8101-432c3ec8810f",
   "metadata": {},
   "outputs": [],
   "source": [
    "class HopfieldNetwork:\n",
    "    def __init__(self, size):\n",
    "        self.size = size\n",
    "        self.weights = np.zeros((size, size))\n",
    "    \n",
    "    def train(self, patterns):\n",
    "        for pattern in patterns:\n",
    "            self.weights += np.outer(pattern, pattern)\n",
    "        np.fill_diagonal(self.weights, -1)\n",
    "        self.weights /= len(patterns)\n",
    "    \n",
    "    def recall(self, pattern, steps=5):\n",
    "        for _ in range(steps):\n",
    "            # The sign function returns -1 if x < -1, -1 if x==-1, 1 if x > -1\n",
    "            pattern = np.sign(self.weights @ pattern)\n",
    "        return pattern"
   ]
  },
  {
   "cell_type": "markdown",
   "id": "b07ea49a-e240-41e6-966b-467533826580",
   "metadata": {},
   "source": [
    "## Train network"
   ]
  },
  {
   "cell_type": "code",
   "execution_count": 177,
   "id": "6b668750-60a4-4fe2-91c5-d9a9b3c5e27f",
   "metadata": {},
   "outputs": [],
   "source": [
    "size = 49\n",
    "patterns = [np.random.choice([-1, 1], size=size) for _ in range(6)]\n",
    "hn = HopfieldNetwork(size)\n",
    "hn.train(patterns)"
   ]
  },
  {
   "cell_type": "code",
   "execution_count": 178,
   "id": "0ad2ee8b-0b4c-4f04-9498-275bb2b227fb",
   "metadata": {},
   "outputs": [
    {
     "data": {
      "image/png": "[encoded data removed]",
      "text/plain": [
       "<Figure size 600x600 with 9 Axes>"
      ]
     },
     "metadata": {},
     "output_type": "display_data"
    }
   ],
   "source": [
    "plot_patterns(patterns)"
   ]
  },
  {
   "cell_type": "markdown",
   "id": "553c6c7e-06ef-467f-b5d2-771a000b10cb",
   "metadata": {},
   "source": [
    "## Test network on corrupt pattern"
   ]
  },
  {
   "cell_type": "code",
   "execution_count": 179,
   "id": "99183086-fee5-4d31-acfe-b5c9aa0e0a39",
   "metadata": {},
   "outputs": [],
   "source": [
    "corrupt_pattern = patterns[0].copy()\n",
    "flip_indicies = np.random.choice(len(corrupt_pattern), size=5, replace=False)\n",
    "\n",
    "corrupt_pattern[flip_indicies] *= -1\n",
    "    \n",
    "recovered_pattern = hn.recall(corrupt_pattern)"
   ]
  },
  {
   "cell_type": "code",
   "execution_count": 180,
   "id": "6f9e36f2-13da-43b0-99c2-29bae8394a65",
   "metadata": {},
   "outputs": [
    {
     "data": {
      "image/png": "[encoded data removed]",
      "text/plain": [
       "<Figure size 400x400 with 4 Axes>"
      ]
     },
     "metadata": {},
     "output_type": "display_data"
    }
   ],
   "source": [
    "plot_patterns([patterns[0], corrupt_pattern, recovered_pattern])"
   ]
  },
  {
   "cell_type": "code",
   "execution_count": null,
   "id": "6d82ff46-fba3-410b-abc0-3b15fdcf0b51",
   "metadata": {},
   "outputs": [],
   "source": []
  }
 ],
 "metadata": {
  "kernelspec": {
   "display_name": "Python 3 (ipykernel)",
   "language": "python",
   "name": "python3"
  },
  "language_info": {
   "codemirror_mode": {
    "name": "ipython",
    "version": 3
   },
   "file_extension": ".py",
   "mimetype": "text/x-python",
   "name": "python",
   "nbconvert_exporter": "python",
   "pygments_lexer": "ipython3",
   "version": "3.10.12"
  }
 },
 "nbformat": 4,
 "nbformat_minor": 5
}
